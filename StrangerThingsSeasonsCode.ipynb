{
 "cells": [
  {
   "cell_type": "code",
   "execution_count": null,
   "id": "4186ab47",
   "metadata": {},
   "outputs": [],
   "source": [
    "from bs4 import BeautifulSoup\n",
    "import requests\n",
    "import datetime\n",
    "import pandas as pd\n",
    "import time\n",
    "import csv"
   ]
  },
  {
   "cell_type": "code",
   "execution_count": null,
   "id": "00974dd1",
   "metadata": {},
   "outputs": [],
   "source": [
    "#sending mail function\n",
    "def send_mail():\n",
    "    import smtplib\n",
    "  \n",
    "    # creates SMTP session\n",
    "    s = smtplib.SMTP('smtp.gmail.com', 587)\n",
    "  \n",
    "    # start TLS for security\n",
    "    s.starttls()\n",
    "  \n",
    "    # Authentication\n",
    "    sender_email=\"soumyasrivastav3@gmail.com\"\n",
    "    sender_email_pass=\"ssmickey@\"\n",
    "    s.login(sender_email,sender_email_pass)\n",
    "  \n",
    "    # message to be sent\n",
    "    message = \"New Season of Stranger Things is releasing today\"\n",
    "  \n",
    "    # sending the mail\n",
    "    receiver_email=\"kritikasingh880@gmail.com\"\n",
    "    s.sendmail(sender_email, receiver_email, message)\n",
    "  \n",
    "    # terminating the session\n",
    "    s.quit()"
   ]
  },
  {
   "cell_type": "code",
   "execution_count": null,
   "id": "b58e549b",
   "metadata": {},
   "outputs": [],
   "source": [
    "def Seasons():\n",
    "    print(\"Hello\")\n",
    "    url=\"https://en.wikipedia.org/wiki/Stranger_Things\"\n",
    "    response=requests.get(url)\n",
    "    soup=BeautifulSoup(response.text,'lxml')\n",
    "    season_table=soup.find_all('table',class_=\"wikitable plainrowheaders wikiepisodetable\")\n",
    "    season_table.pop()\n",
    "    overall_no=[]\n",
    "    no_in_season=[]\n",
    "    season=[]\n",
    "    title=[]\n",
    "    director=[]\n",
    "    written=[]\n",
    "    release_date=[]\n",
    "    Sdict=[]\n",
    "    header=[\"Overall No\",\"Season\",'No. in a Season',\"Title\",\"Director\",\"Writer\",\"Release Date\"]\n",
    "    Sdict.append(header)\n",
    "    for i in range(len(season_table)):\n",
    "        for j in range(len(season_table[i].find_all('tr',class_=\"vevent\"))):\n",
    "            releaseDate=(season_table[i].find_all('tr',class_=\"vevent\"))[j].find_all('td')[4].text\n",
    "            if len(releaseDate.split('(')[1].split(')')[0].split('-'))==3:\n",
    "                release_year=(int(releaseDate.split('(')[1].split(')')[0].split('-')[0]))\n",
    "                release_month=(int(releaseDate.split('(')[1].split(')')[0].split('-')[1]))\n",
    "                release_day=(int(releaseDate.split('(')[1].split(')')[0].split('-')[2]))\n",
    "                current_date = datetime.datetime.now()\n",
    "#                 if release_year==current_date.year and release_month==current_date.month and release_day==current_date.day:\n",
    "#                         send_mail() \n",
    "                row=[]    \n",
    "                row.append(int((season_table[i].find_all('tr',class_=\"vevent\"))[j].find('th').text))#overall_no\n",
    "                row.append(i+1) #season\n",
    "                row.append(int((season_table[i].find_all('tr',class_=\"vevent\"))[j].find_all('td')[0].text))#no_in_season\n",
    "                row.append((season_table[i].find_all('tr',class_=\"vevent\"))[j].find_all('td')[1].text)#title\n",
    "                row.append((season_table[i].find_all('tr',class_=\"vevent\"))[j].find_all('td')[2].text)#director\n",
    "                row.append((season_table[i].find_all('tr',class_=\"vevent\"))[j].find_all('td')[3].text)#written\n",
    "                row.append(releaseDate.split('(')[1].split(')')[0])#release_date\n",
    "                Sdict.append(row)\n",
    "#     print(Sdict)\n",
    "    row_list = Sdict\n",
    "    with open('StrangerThingsSeasons.csv', 'w', newline='',encoding='UTF8') as file:\n",
    "        writer = csv.writer(file)\n",
    "        writer.writerows(row_list)\n"
   ]
  },
  {
   "cell_type": "code",
   "execution_count": null,
   "id": "0628fcad",
   "metadata": {},
   "outputs": [],
   "source": [
    "while(True):\n",
    "    Seasons()\n",
    "    time.sleep(7*24*60*60)"
   ]
  },
  {
   "cell_type": "code",
   "execution_count": null,
   "id": "97d1e5ce",
   "metadata": {},
   "outputs": [],
   "source": []
  }
 ],
 "metadata": {
  "kernelspec": {
   "display_name": "Python 3 (ipykernel)",
   "language": "python",
   "name": "python3"
  },
  "language_info": {
   "codemirror_mode": {
    "name": "ipython",
    "version": 3
   },
   "file_extension": ".py",
   "mimetype": "text/x-python",
   "name": "python",
   "nbconvert_exporter": "python",
   "pygments_lexer": "ipython3",
   "version": "3.9.7"
  }
 },
 "nbformat": 4,
 "nbformat_minor": 5
}
